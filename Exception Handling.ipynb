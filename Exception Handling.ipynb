{
 "cells": [
  {
   "cell_type": "code",
   "execution_count": 8,
   "id": "a1a453e1",
   "metadata": {},
   "outputs": [
    {
     "ename": "ZeroDivisionError",
     "evalue": "division by zero",
     "output_type": "error",
     "traceback": [
      "\u001b[1;31m---------------------------------------------------------------------------\u001b[0m",
      "\u001b[1;31mZeroDivisionError\u001b[0m                         Traceback (most recent call last)",
      "\u001b[1;32mC:\\Users\\Public\\Documents\\Wondershare\\CreatorTemp\\ipykernel_14384\\1769314295.py\u001b[0m in \u001b[0;36m<module>\u001b[1;34m\u001b[0m\n\u001b[0;32m      3\u001b[0m     \u001b[0mdenominator\u001b[0m \u001b[1;33m=\u001b[0m \u001b[1;36m0\u001b[0m\u001b[1;33m\u001b[0m\u001b[1;33m\u001b[0m\u001b[0m\n\u001b[0;32m      4\u001b[0m \u001b[1;33m\u001b[0m\u001b[0m\n\u001b[1;32m----> 5\u001b[1;33m     \u001b[0mresult\u001b[0m \u001b[1;33m=\u001b[0m \u001b[0mnumerator\u001b[0m\u001b[1;33m/\u001b[0m\u001b[0mdenominator\u001b[0m\u001b[1;33m\u001b[0m\u001b[1;33m\u001b[0m\u001b[0m\n\u001b[0m\u001b[0;32m      6\u001b[0m \u001b[1;33m\u001b[0m\u001b[0m\n\u001b[0;32m      7\u001b[0m     \u001b[0mprint\u001b[0m\u001b[1;33m(\u001b[0m\u001b[0mresult\u001b[0m\u001b[1;33m)\u001b[0m\u001b[1;33m\u001b[0m\u001b[1;33m\u001b[0m\u001b[0m\n",
      "\u001b[1;31mZeroDivisionError\u001b[0m: division by zero"
     ]
    }
   ],
   "source": [
    "try:\n",
    "    numerator = 10\n",
    "    denominator = 0\n",
    "\n",
    "    result = numerator/denominator\n",
    "\n",
    "    print(result)\n",
    "except NameError as Ex:\n",
    "    print(Ex)\n",
    "\n",
    "# Output: Error: Denominator cannot be 0. "
   ]
  },
  {
   "cell_type": "code",
   "execution_count": 9,
   "id": "94d051eb",
   "metadata": {},
   "outputs": [
    {
     "name": "stdout",
     "output_type": "stream",
     "text": [
      "Hello\n"
     ]
    }
   ],
   "source": [
    "n = 10\n",
    "\n",
    "# use pass inside if statement\n",
    "if n > 10:\n",
    "    pass\n",
    "\n",
    "print('Hello')"
   ]
  },
  {
   "cell_type": "code",
   "execution_count": 10,
   "id": "637ad612",
   "metadata": {},
   "outputs": [
    {
     "ename": "IndentationError",
     "evalue": "expected an indented block (3032747496.py, line 6)",
     "output_type": "error",
     "traceback": [
      "\u001b[1;36m  File \u001b[1;32m\"C:\\Users\\Public\\Documents\\Wondershare\\CreatorTemp\\ipykernel_14384\\3032747496.py\"\u001b[1;36m, line \u001b[1;32m6\u001b[0m\n\u001b[1;33m    print('Hello')\u001b[0m\n\u001b[1;37m    ^\u001b[0m\n\u001b[1;31mIndentationError\u001b[0m\u001b[1;31m:\u001b[0m expected an indented block\n"
     ]
    }
   ],
   "source": [
    "n = 10\n",
    "\n",
    "if n > 10:\n",
    "    # write code later\n",
    "\n",
    "print('Hello')"
   ]
  },
  {
   "cell_type": "code",
   "execution_count": 2,
   "id": "128b5ec2",
   "metadata": {},
   "outputs": [],
   "source": [
    "class Fruits:\n",
    " def _init_(self,type,color):\n",
    "  self.type = type\n",
    "  self.color =color\n",
    " def describe(self):\n",
    "  print(\"This fruit is a {} {}\".format(self.color. self.type))"
   ]
  },
  {
   "cell_type": "code",
   "execution_count": 3,
   "id": "bd395191",
   "metadata": {},
   "outputs": [
    {
     "name": "stdout",
     "output_type": "stream",
     "text": [
      "2\n"
     ]
    }
   ],
   "source": [
    "print(2)"
   ]
  },
  {
   "cell_type": "code",
   "execution_count": 4,
   "id": "6091da28",
   "metadata": {},
   "outputs": [
    {
     "name": "stdout",
     "output_type": "stream",
     "text": [
      "['__class__', '__delattr__', '__dict__', '__dir__', '__doc__', '__eq__', '__format__', '__ge__', '__getattribute__', '__gt__', '__hash__', '__init__', '__init_subclass__', '__le__', '__lt__', '__module__', '__ne__', '__new__', '__reduce__', '__reduce_ex__', '__repr__', '__setattr__', '__sizeof__', '__str__', '__subclasshook__', '__weakref__', 'sample_method']\n"
     ]
    }
   ],
   "source": [
    "class DemoClass:\n",
    "    def sample_method():\n",
    "        print (\"This is the demo method\")       \n",
    "print(dir(DemoClass))"
   ]
  },
  {
   "cell_type": "code",
   "execution_count": 6,
   "id": "464f54c1",
   "metadata": {},
   "outputs": [
    {
     "name": "stdout",
     "output_type": "stream",
     "text": [
      "Model is audi a4\n",
      "color is blue\n",
      "Model is ferrari 488\n",
      "color is green\n",
      "Model for audi is  audi a4\n",
      "Colour for ferrari is  green\n"
     ]
    }
   ],
   "source": [
    "# Write Python3 code here\n",
    "\n",
    "class car():\n",
    "\t\n",
    "\t# init method or constructor\n",
    "\tdef __init__(sf, model, color):\n",
    "\t\tsf.model = model\n",
    "\t\tsf.color = color\n",
    "\t\t\n",
    "\tdef show(sf):\n",
    "\t\tprint(\"Model is\", sf.model )\n",
    "\t\tprint(\"color is\", sf.color )\n",
    "\t\t\n",
    "# both objects have different self which\n",
    "# contain their attributes\n",
    "audi = car(\"audi a4\", \"blue\")\n",
    "ferrari = car(\"ferrari 488\", \"green\")\n",
    "\n",
    "audi.show()\t # same output as car.show(audi)\n",
    "ferrari.show() # same output as car.show(ferrari)\n",
    "\n",
    "#note:we can also do like this\n",
    "print(\"Model for audi is \",audi.model)\n",
    "print(\"Colour for ferrari is \",ferrari.color)\n",
    "#this happens because after assigning in the constructor the attributes are linked to that particular object\n",
    "#here attributes(model,colour) are linked to objects(audi,ferrari) as we initialize them\n",
    "# Behind the scene, in every instance method\n",
    "# call, python sends the instances also with\n",
    "# that method call like car.show(audi)\n"
   ]
  },
  {
   "cell_type": "code",
   "execution_count": null,
   "id": "7005259e",
   "metadata": {},
   "outputs": [],
   "source": []
  }
 ],
 "metadata": {
  "kernelspec": {
   "display_name": "Python 3 (ipykernel)",
   "language": "python",
   "name": "python3"
  },
  "language_info": {
   "codemirror_mode": {
    "name": "ipython",
    "version": 3
   },
   "file_extension": ".py",
   "mimetype": "text/x-python",
   "name": "python",
   "nbconvert_exporter": "python",
   "pygments_lexer": "ipython3",
   "version": "3.9.13"
  }
 },
 "nbformat": 4,
 "nbformat_minor": 5
}
